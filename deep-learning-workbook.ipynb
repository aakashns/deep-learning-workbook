{
  "cells": [
    {
      "cell_type": "markdown",
      "metadata": {
        "id": "view-in-github",
        "colab_type": "text"
      },
      "source": [
        "<a href=\"https://colab.research.google.com/github/aakashns/deep-learning-workbook/blob/master/deep-learning-workbook.ipynb\" target=\"_parent\"><img src=\"https://colab.research.google.com/assets/colab-badge.svg\" alt=\"Open In Colab\"/></a>"
      ]
    },
    {
      "cell_type": "markdown",
      "metadata": {
        "nbpresent": {
          "id": "78a5f605-1c0b-4917-b674-96a94be1e8f7"
        },
        "id": "hK0U-BiROAqt"
      },
      "source": [
        "# Deep Learning Project Workbook"
      ]
    },
    {
      "cell_type": "markdown",
      "metadata": {
        "id": "RFDKoT-_OAqw"
      },
      "source": [
        "Source: https://github.com/aakashns/deep-learning-workbook\n",
        "\n",
        "This Jupyter notebook outlines a universal blueprint that can be used to attack and solve any machine learning problem. It is based on the workflow described in the book [Deep Learning with Python](https://www.manning.com/books/deep-learning-with-python).\n",
        "\n",
        "### Usage Instructions\n",
        "\n",
        "1. Set up your dev environment with [Jupyter](http://jupyter.org/), [Tensorflow](https://www.tensorflow.org/) & [Keras](https://keras.io/) (or any other ML framework). Follow [this guide](https://blog.keras.io/running-jupyter-notebooks-on-gpu-on-aws-a-starter-guide.html) if you wish to use a GPU on AWS.\n",
        "\n",
        "2. Download the latest version of the workbook using the command:\n",
        "```bash\n",
        "wget https://raw.githubusercontent.com/aakashns/deep-learning-workbook/master/deep-learning-workbook.ipynb\n",
        "```\n",
        "\n",
        "3. Change the file name, title and kernel as desired. This notebook was originally written with the kernel `conda:tensorflow_p36` on the [AWS Deep Learning AMI](https://aws.amazon.com/marketplace/pp/B01M0AXXQB).\n",
        "\n",
        "4. Follow the steps described below, filling in the blanks (marked as `TODO`).\n",
        "\n",
        "5. Once you're done building the final model, you can delete the cells containing instructions (like this one)."
      ]
    },
    {
      "cell_type": "markdown",
      "metadata": {
        "nbpresent": {
          "id": "80f0d6de-5c5c-4236-ae28-0d200b50c1e9"
        },
        "id": "Q7sanvhxOAqx"
      },
      "source": [
        "## Step 1: Define the Problem & Collect Data"
      ]
    },
    {
      "cell_type": "markdown",
      "metadata": {
        "id": "zQULInTxOAqx"
      },
      "source": [
        "Define the problem and assemble a dataset:\n",
        "\n",
        "* What will your input data be? What are you trying to predict?\n",
        "* What type of problem are you facing?\n",
        "    * Binary classification\n",
        "    * Multi-class classification\n",
        "    * Scalar regression\n",
        "    * Vector regression\n",
        "    * Multi-class, multi-label classification\n",
        "    * Clustering\n",
        "    * Generation\n",
        "    * Reinforcement learning\n",
        "    \n",
        "Be aware of the hypotheses you are making at this stage:\n",
        "\n",
        "* You are hypothesizing that your outputs can be predicted given your inputs\n",
        "* You are hypothesizing that your available data is sufficiently informative to learn the relationship between inputs and outputs.\n",
        "\n",
        "Remember that machine learning can only be used to memorize patterns which are present in your training data. You can only recognize what you have seen before.\n",
        "\n",
        "### Answer the following questions to define your problem:"
      ]
    },
    {
      "cell_type": "markdown",
      "metadata": {
        "id": "cHhkaVxdOAqy"
      },
      "source": [
        "**Q**: What are you trying to predict?<br/>\n",
        "**A**: `TODO`\n",
        "\n",
        "\n",
        "**Q**: What will your input data be?<br/>\n",
        "**A**: `TODO`\n",
        "\n",
        "\n",
        "**Q**: What type of problem are you facing?<br/>\n",
        "**A**: `TODO`\n",
        "\n",
        "\n",
        "**Q**: What is the size of your dataset?<br/>\n",
        "**A**: `TODO`"
      ]
    },
    {
      "cell_type": "markdown",
      "metadata": {
        "nbpresent": {
          "id": "9e1b20b9-299a-4862-a5aa-41223e17270e"
        },
        "id": "JvHGlN3iOAqy"
      },
      "source": [
        "## Step 2: Pick Success Metrics"
      ]
    },
    {
      "cell_type": "markdown",
      "metadata": {
        "id": "GOX29zqSOAqy"
      },
      "source": [
        "To achieve, you must define what you mean by success, E.g.:\n",
        "* Accuracy\n",
        "* Precision-Recall\n",
        "* Customer retention rate\n",
        "* ROC AUC\n",
        "\n",
        "*Tip*: Browse [Kaggle](https://kaggle.com) to find examples of problems and evaluation metrics. For a list of metrics supported by Keras, visit https://keras.io/metrics/ .\n",
        "\n",
        "### Answer these questions to define your success metrics:"
      ]
    },
    {
      "cell_type": "markdown",
      "metadata": {
        "id": "CCt9U-85OAqz"
      },
      "source": [
        "**Q**: What is your metric for success?<br/>\n",
        "**A**: `TODO` (e.g. accuracy)\n",
        "\n",
        "**Q**: What value of your success metric are you aiming for?<br/>\n",
        "**A**: `TODO` (e.g. 95 %)"
      ]
    },
    {
      "cell_type": "markdown",
      "metadata": {
        "nbpresent": {
          "id": "c1a8ae3f-a685-45a0-8205-d7561c12b165"
        },
        "id": "SqvnhNmXOAqz"
      },
      "source": [
        "## Step 3: Pick an Evaluation Protocol and Prepare Your Data"
      ]
    },
    {
      "cell_type": "markdown",
      "metadata": {
        "id": "ywm2e5SMOAq0"
      },
      "source": [
        "There are three common evaluation protocols:\n",
        "1. Maintaining a hold-out validation set; this is the way to go if you have plenty of data\n",
        "2. Doing K-fold cross validation; when you have too few samples for hold out validation to be reliable\n",
        "3. Doing iterated K-fold validation; this is for performing highly accurate model evaluation when little is available.\n",
        "\n",
        "Prepare your data based on the evaluation protocol:\n",
        "* The data should be formatted as tensors\n",
        "* The values taken by the tensors should typically be scaled to small values, e.g. in the range <code>[-1,1]</code> or <code>[0,1]</code>\n",
        "* If different features take values in different ranges, then the data should be normalized.\n",
        "* Some feature engineering might be required for small data problems.\n",
        "\n",
        "### Answer these questions to determine your evaluation protocol and prepare your data:"
      ]
    },
    {
      "cell_type": "markdown",
      "metadata": {
        "id": "iCFX65J4OAq0"
      },
      "source": [
        "**Q**: What approach are going to follow for validation?<br/>\n",
        "**A**: `TODO` e.g. K-fold cross validation\n",
        "\n",
        "**Q**: Does your data require reformatting (into tensors), normalization or scaling?<br/>\n",
        "**A**: `TODO`\n",
        "\n",
        "**Q**: What is the training/validation/test split?\n",
        "**A**: `TODO` e.g. 50-25-25\n",
        "\n",
        "**Q**: Can/should the data be randomized before splitting?<br/>\n",
        "**A**: `TODO`\n",
        "\n",
        "**Q**: Can you come up with new features using existing ones to make the problem easier?<br/>\n",
        "**A**: `TODO`"
      ]
    },
    {
      "cell_type": "code",
      "execution_count": null,
      "metadata": {
        "id": "J-UtKuXlOAq1"
      },
      "outputs": [],
      "source": [
        "# Implement Step 3 (load, prepare & split the data)"
      ]
    },
    {
      "cell_type": "code",
      "execution_count": null,
      "metadata": {
        "id": "NyfLwv_vOAq1"
      },
      "outputs": [],
      "source": []
    },
    {
      "cell_type": "code",
      "execution_count": null,
      "metadata": {
        "id": "4xIV1vNMOAq1"
      },
      "outputs": [],
      "source": []
    },
    {
      "cell_type": "code",
      "execution_count": null,
      "metadata": {
        "id": "HMBWDkoAOAq2"
      },
      "outputs": [],
      "source": []
    },
    {
      "cell_type": "markdown",
      "metadata": {
        "nbpresent": {
          "id": "43e5b08d-da9a-41fc-8355-adefe6033d2a"
        },
        "id": "K0evSc-OOAq2"
      },
      "source": [
        "## Step 4: Develop the First Model"
      ]
    },
    {
      "cell_type": "markdown",
      "metadata": {
        "id": "qUwkPNnLOAq2"
      },
      "source": [
        "The first goal is to develop a model that is capable of beating a dumb baseline. There are 3 key choices to be made:\n",
        "1. Last-layer activation function\n",
        "2. Loss function\n",
        "3. Optimization configuration (generally, `rmsprop` is good enough).\n",
        "\n",
        "<table>\n",
        "    <tr>\n",
        "        <th>Problem Type</th>\n",
        "        <th>Last-layer Activation</th>\n",
        "        <th>Loss Function</th>\n",
        "    </tr>\n",
        "    <tr>\n",
        "        <td>Binary Classification</td>\n",
        "        <td>`sigmoid`</td>\n",
        "        <td>`binary_crossentropy`</td>\n",
        "    </tr>\n",
        "    <tr>\n",
        "        <td>Multi-class, single-label classification</td>\n",
        "        <td>`softmax`</td>\n",
        "        <td>`categorical_crossentropy`</td>\n",
        "    </tr>\n",
        "    <tr>\n",
        "        <td>Multi-class, multi-label classification</td>\n",
        "        <td>`sigmoid`</td>\n",
        "        <td>`binary_crossentropy`</td>\n",
        "    </tr>\n",
        "    <tr>\n",
        "        <td>Regression to arbitrary values</td>\n",
        "        <td>None</td>\n",
        "        <td>`mse`</td>\n",
        "    </tr>\n",
        "    <tr>\n",
        "        <td>Regression to values in `[0,1]`</td>\n",
        "        <td>`sigmoid`</td>\n",
        "        <td>`mse` or `binary_crossentropy`</td>\n",
        "    </tr>\n",
        "</table>"
      ]
    },
    {
      "cell_type": "code",
      "execution_count": null,
      "metadata": {
        "nbpresent": {
          "id": "15d0abd7-e433-43cf-a9be-492f47c2578f"
        },
        "id": "EXlikoZXOAq2"
      },
      "outputs": [],
      "source": [
        "# TODO: Implement Step 4 here"
      ]
    },
    {
      "cell_type": "code",
      "execution_count": null,
      "metadata": {
        "id": "7Cgk6FtbOAq2"
      },
      "outputs": [],
      "source": []
    },
    {
      "cell_type": "code",
      "execution_count": null,
      "metadata": {
        "id": "7i0oi9PGOAq2"
      },
      "outputs": [],
      "source": []
    },
    {
      "cell_type": "code",
      "execution_count": null,
      "metadata": {
        "id": "IoTCNISfOAq2"
      },
      "outputs": [],
      "source": []
    },
    {
      "cell_type": "markdown",
      "metadata": {
        "id": "qDD4u7B9OAq2"
      },
      "source": [
        "## Step 5: Develop a Model That Overfits\n",
        "\n",
        "The final objective is to find the balance between:\n",
        "* Optimization and generalization\n",
        "* Under-fitting and over-fitting\n",
        "* Under-capacity and over-capacity\n",
        "\n",
        "To figure out how big a model is required, you must develop a model that overfits, using one or more of the following approaches:\n",
        "* Add layers\n",
        "* Makes layers bigger\n",
        "* Train for more epochs\n",
        "\n",
        "Plot the values of the loss function and the success metrics on the training and validation datasets to identify where the model starts over-fitting."
      ]
    },
    {
      "cell_type": "code",
      "execution_count": null,
      "metadata": {
        "id": "4n2_cGFZOAq3"
      },
      "outputs": [],
      "source": [
        "# TODO: Implement Step 5 Here"
      ]
    },
    {
      "cell_type": "code",
      "execution_count": null,
      "metadata": {
        "id": "SNbp7H6YOAq3"
      },
      "outputs": [],
      "source": []
    },
    {
      "cell_type": "code",
      "execution_count": null,
      "metadata": {
        "id": "sPf_6_GWOAq3"
      },
      "outputs": [],
      "source": []
    },
    {
      "cell_type": "code",
      "execution_count": null,
      "metadata": {
        "id": "7t6w8cu4OAq3"
      },
      "outputs": [],
      "source": []
    },
    {
      "cell_type": "markdown",
      "metadata": {
        "id": "ULk-0TdfOAq3"
      },
      "source": [
        "## Step 6: Regularize the Model and Tune the Hyperparameters"
      ]
    },
    {
      "cell_type": "markdown",
      "metadata": {
        "id": "YN0DzhGnOAq3"
      },
      "source": [
        "This part will take the most time. You will repeatedly modify your model, train it, evaluate on your validation data, modify it again... until your model is as good as it can get.\n",
        "\n",
        "Following are some approaches for improving the model:\n",
        "* Add dropout\n",
        "* Try different architectures, add or remove layers\n",
        "* Add L1 / L2 regularization\n",
        "* Try different hyperparameters to find the optimal cofiguration, e.g.:\n",
        "    * No. of units per layer\n",
        "    * Learning rate of the optimizer\n",
        "* Iterate on feature engineering: add new features, remove features that do not seem informative\n",
        "\n",
        "Be mindful of the following: every time you are using feedback from your validation process in order to tune your model, you are leaking information about your validation process into your model. This can cause overfitting on the validation data.\n",
        "\n",
        "Once you have developed a seemingly good enough model configuration, you can train your final production model on all data available (training and validation) and evaluate it one last time on the test set. Finally, you can save your model to disk, so that it can be reused later."
      ]
    },
    {
      "cell_type": "code",
      "execution_count": null,
      "metadata": {
        "id": "GqAOx0R9OAq3"
      },
      "outputs": [],
      "source": [
        "# TODO: Implement Step 6 here"
      ]
    },
    {
      "cell_type": "code",
      "execution_count": null,
      "metadata": {
        "id": "4i_qOaPQOAq3"
      },
      "outputs": [],
      "source": []
    }
  ],
  "metadata": {
    "kernelspec": {
      "display_name": "Python [conda env:tensorflow_p36]",
      "language": "python",
      "name": "conda-env-tensorflow_p36-py"
    },
    "language_info": {
      "codemirror_mode": {
        "name": "ipython",
        "version": 3
      },
      "file_extension": ".py",
      "mimetype": "text/x-python",
      "name": "python",
      "nbconvert_exporter": "python",
      "pygments_lexer": "ipython3",
      "version": "3.6.3"
    },
    "colab": {
      "provenance": [],
      "include_colab_link": true
    }
  },
  "nbformat": 4,
  "nbformat_minor": 0
}